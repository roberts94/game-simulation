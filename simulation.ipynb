{
 "cells": [
  {
   "cell_type": "markdown",
   "metadata": {},
   "source": [
    "# Simulation"
   ]
  },
  {
   "cell_type": "code",
   "execution_count": 1,
   "metadata": {},
   "outputs": [],
   "source": [
    "# Import required functions and libraries\n",
    "\n",
    "import math\n",
    "import random\n",
    "import numpy as np\n",
    "import matplotlib.pyplot as plt\n",
    "import dataframe_image as dfi\n",
    "from scipy.stats import expon\n",
    "from matplotlib.pyplot import figure\n",
    "from distfit import distfit"
   ]
  },
  {
   "cell_type": "markdown",
   "metadata": {},
   "source": [
    "First, we define the game."
   ]
  },
  {
   "cell_type": "code",
   "execution_count": 2,
   "metadata": {},
   "outputs": [],
   "source": [
    "def game(a=4, b=4, coins=10):\n",
    "    \n",
    "    # This function accepts a starting number of coins for both\n",
    "    # players A and B, and the total number of coins in the game.\n",
    "    # It returns the number of cycles played until one \n",
    "    # of the players can't submit a coin to the pot.\n",
    " \n",
    "    pot = coins - a - b               # Calculate the number of coins in the pot\n",
    "    cycles = 0                        # Initialize the cycle coint to 0\n",
    "    max_cycles = 1000                 # Set a maximum number of iterations \n",
    "    \n",
    "    while cycles <= max_cycles: \n",
    "        \n",
    "        cycles += 1                   # Count 1 cycle for both players' turns\n",
    "        \n",
    "        ############################################################################\n",
    "        # A's turn\n",
    "        \n",
    "        a_roll = random.randint(1,6)  # Simulate player A's die roll\n",
    "        \n",
    "        if a_roll == 1: pass          # If player A rolls a 1, do nothing\n",
    "\n",
    "        elif a_roll == 2:             # If player A rolls a 2,\n",
    "            a += pot                      # player A gets all the coins in the pot,\n",
    "            pot = 0                       # and the pot goes to 0\n",
    "\n",
    "        elif a_roll == 3:             # If player A rolls a 3,\n",
    "            a += pot // 2                 # player A gets half the coins in the pot,\n",
    "            pot -= pot // 2               # and the pot loses half its coins\n",
    "\n",
    "        else:                         # If player A rolls a 4, 5, or 6 \n",
    "            if a == 0:                    # and player A doesn't have any coins,\n",
    "                return cycles                 # end the game\n",
    "            else:                         # If player A has at least 1 coin,\n",
    "                a -= 1                        # player A gives one coin to the pot,\n",
    "                pot += 1                      # and the pot gains 1 coin\n",
    "                \n",
    "        ############################################################################\n",
    "        # B's turn\n",
    "\n",
    "        b_roll = random.randint(1,6)  # Simulate player B's die roll\n",
    "        \n",
    "        if b_roll == 1: pass          # If player B rolls a 1, do nothing\n",
    "\n",
    "        elif b_roll == 2:             # If player B rolls a 2,\n",
    "            b += pot                      # player B gets all the coins in the pot,\n",
    "            pot = 0                       # and the pot goes to 0\n",
    "\n",
    "        elif b_roll == 3:             # If player B rolls a 3,\n",
    "            b += pot // 2                 # player B gets half the coins in the pot,\n",
    "            pot -= pot // 2               # and the pot loses half its coins\n",
    "\n",
    "        else:                         # If player B rolls a 4, 5, or 6 \n",
    "            if b == 0:                    # and player B doesn't have any coins,\n",
    "                return cycles                 # end the game\n",
    "            else:                         # If player B has at least 1 coin,\n",
    "                b -= 1                        # player B gives one coin to the pot,\n",
    "                pot += 1                      # and the pot gains 1 coin\n",
    "                \n",
    "    return cycles"
   ]
  },
  {
   "cell_type": "markdown",
   "metadata": {},
   "source": [
    "Then we simulate 1 million games and store the results in C."
   ]
  },
  {
   "cell_type": "code",
   "execution_count": 3,
   "metadata": {},
   "outputs": [],
   "source": [
    "X = []\n",
    "for i in range(1000000):\n",
    "    X.append(game())"
   ]
  },
  {
   "cell_type": "markdown",
   "metadata": {},
   "source": [
    "We find the sample mean:"
   ]
  },
  {
   "cell_type": "code",
   "execution_count": 4,
   "metadata": {
    "scrolled": true
   },
   "outputs": [
    {
     "name": "stdout",
     "output_type": "stream",
     "text": [
      "17.539549\n"
     ]
    }
   ],
   "source": [
    "sample_mean = sum(X) / len(X)\n",
    "print(sample_mean)"
   ]
  },
  {
   "cell_type": "markdown",
   "metadata": {},
   "source": [
    "We plot a histogram of the empirical data using 50 bins."
   ]
  },
  {
   "cell_type": "code",
   "execution_count": 5,
   "metadata": {},
   "outputs": [
    {
     "data": {
      "text/plain": [
       "(array([6.69010582e-02, 5.27727513e-02, 3.89947090e-02, 2.84804233e-02,\n",
       "        1.62502646e-02, 1.65121693e-02, 1.20544974e-02, 8.85343915e-03,\n",
       "        6.39285714e-03, 3.60079365e-03, 3.70873016e-03, 2.70000000e-03,\n",
       "        1.97301587e-03, 1.12698413e-03, 1.13253968e-03, 8.49470899e-04,\n",
       "        6.19841270e-04, 4.35185185e-04, 2.48677249e-04, 2.51322751e-04,\n",
       "        1.81746032e-04, 1.41269841e-04, 7.69841270e-05, 8.83597884e-05,\n",
       "        5.23809524e-05, 3.75661376e-05, 2.85714286e-05, 1.79894180e-05,\n",
       "        1.95767196e-05, 1.21693122e-05, 8.99470899e-06, 5.29100529e-06,\n",
       "        6.08465608e-06, 3.70370370e-06, 2.11640212e-06, 2.64550265e-06,\n",
       "        1.05820106e-06, 7.93650794e-07, 1.05820106e-06, 7.93650794e-07,\n",
       "        7.93650794e-07, 2.64550265e-07, 0.00000000e+00, 5.29100529e-07,\n",
       "        0.00000000e+00, 2.64550265e-07, 0.00000000e+00, 2.64550265e-07,\n",
       "        0.00000000e+00, 2.64550265e-07]),\n",
       " array([  5.  ,   8.78,  12.56,  16.34,  20.12,  23.9 ,  27.68,  31.46,\n",
       "         35.24,  39.02,  42.8 ,  46.58,  50.36,  54.14,  57.92,  61.7 ,\n",
       "         65.48,  69.26,  73.04,  76.82,  80.6 ,  84.38,  88.16,  91.94,\n",
       "         95.72,  99.5 , 103.28, 107.06, 110.84, 114.62, 118.4 , 122.18,\n",
       "        125.96, 129.74, 133.52, 137.3 , 141.08, 144.86, 148.64, 152.42,\n",
       "        156.2 , 159.98, 163.76, 167.54, 171.32, 175.1 , 178.88, 182.66,\n",
       "        186.44, 190.22, 194.  ]),\n",
       " <BarContainer object of 50 artists>)"
      ]
     },
     "execution_count": 5,
     "metadata": {},
     "output_type": "execute_result"
    },
    {
     "data": {
      "image/png": "[encoded data removed]",
      "text/plain": [
       "<Figure size 1080x720 with 1 Axes>"
      ]
     },
     "metadata": {
      "needs_background": "light"
     },
     "output_type": "display_data"
    }
   ],
   "source": [
    "figure(figsize=(15,10))\n",
    "\n",
    "plt.xlabel('Cycle Counts', fontsize=12)\n",
    "plt.ylabel('Probability', fontsize=12)\n",
    "plt.hist(X, bins=50, density=True) #density=True outputs an empirical prob distribution\n",
    "\n",
    "# Option to save the output as an image\n",
    "#plt.savefig('hist_empirical.png')"
   ]
  },
  {
   "cell_type": "code",
   "execution_count": 6,
   "metadata": {},
   "outputs": [],
   "source": [
    "#Convert the list to a NumPy array\n",
    "X = np.array(X)"
   ]
  },
  {
   "cell_type": "markdown",
   "metadata": {},
   "source": [
    "Now we use distfit to perform parametric probability density estimation."
   ]
  },
  {
   "cell_type": "code",
   "execution_count": 7,
   "metadata": {
    "scrolled": false
   },
   "outputs": [
    {
     "name": "stdout",
     "output_type": "stream",
     "text": [
      "[distfit] >fit..\n",
      "[distfit] >transform..\n",
      "[distfit] >[norm      ] [0.00 sec] [RSS: 0.0031221] [loc=17.540 scale=12.759]\n",
      "[distfit] >[expon     ] [0.00 sec] [RSS: 0.0000320] [loc=5.000 scale=12.540]\n",
      "[distfit] >[pareto    ] [9.95 sec] [RSS: 0.0019368] [loc=-0.013 scale=5.013]\n",
      "[distfit] >[dweibull  ] [5.22 sec] [RSS: 0.0021274] [loc=14.416 scale=9.133]\n",
      "[distfit] >[t         ] [10.2 sec] [RSS: 0.0019320] [loc=14.021 scale=7.587]\n",
      "[distfit] >[genextreme] [26.0 sec] [RSS: 0.0001743] [loc=10.654 scale=5.999]\n",
      "[distfit] >[gamma     ] [13.7 sec] [RSS: 0.0002060] [loc=5.000 scale=13.257]\n",
      "[distfit] >[lognorm   ] [20.7 sec] [RSS: 0.0000773] [loc=3.668 scale=9.254]\n",
      "[distfit] >[beta      ] [23.8 sec] [RSS: 0.0005468] [loc=5.000 scale=1264.030]\n",
      "[distfit] >[uniform   ] [0.00 sec] [RSS: 0.0090359] [loc=5.000 scale=189.000]\n",
      "[distfit] >[loggamma  ] [11.0 sec] [RSS: 0.0032152] [loc=-4264.795 scale=569.569]\n",
      "[distfit] >Compute confidence interval [parametric]\n"
     ]
    },
    {
     "data": {
      "text/plain": [
       "{'model': {'distr': <scipy.stats._continuous_distns.expon_gen at 0x7fb916406b80>,\n",
       "  'stats': 'RSS',\n",
       "  'params': (5.0, 12.539549000000001),\n",
       "  'name': 'expon',\n",
       "  'model': <scipy.stats._distn_infrastructure.rv_frozen at 0x7fb9171348e0>,\n",
       "  'score': 3.195210754656238e-05,\n",
       "  'loc': 5.0,\n",
       "  'scale': 12.539549000000001,\n",
       "  'arg': (),\n",
       "  'CII_min_alpha': 5.643194778344115,\n",
       "  'CII_max_alpha': 42.56513163511166},\n",
       " 'summary':          distr        score  LLE       loc    scale  \\\n",
       " 0        expon  3.19521e-05  NaN         5  12.5395   \n",
       " 1      lognorm  7.73159e-05  NaN   3.66819  9.25409   \n",
       " 2   genextreme  0.000174301  NaN   10.6535   5.9991   \n",
       " 3        gamma  0.000205954  NaN         5  13.2569   \n",
       " 4         beta   0.00054675  NaN         5  1264.03   \n",
       " 5            t   0.00193198  NaN   14.0212  7.58693   \n",
       " 6       pareto    0.0019368  NaN -0.012759  5.01276   \n",
       " 7     dweibull   0.00212736  NaN   14.4156  9.13271   \n",
       " 8         norm   0.00312206  NaN   17.5395  12.7587   \n",
       " 9     loggamma   0.00321516  NaN  -4264.79  569.569   \n",
       " 10     uniform   0.00903593  NaN         5      189   \n",
       " \n",
       "                                          arg  \n",
       " 0                                         ()  \n",
       " 1                      (0.9501000411385825,)  \n",
       " 2                    (-0.45900100685116857,)  \n",
       " 3                      (0.8479523237848223,)  \n",
       " 4   (0.8847812066038294, 117.40224502138686)  \n",
       " 5                      (2.6540691928796245,)  \n",
       " 6                      (0.9631676761627705,)  \n",
       " 7                      (1.0659180424922519,)  \n",
       " 8                                         ()  \n",
       " 9                       (1842.517202542549,)  \n",
       " 10                                        ()  ,\n",
       " 'histdata': (array([6.69010582e-02, 5.27727513e-02, 3.89947090e-02, 2.84804233e-02,\n",
       "         1.62502646e-02, 1.65121693e-02, 1.20544974e-02, 8.85343915e-03,\n",
       "         6.39285714e-03, 3.60079365e-03, 3.70873016e-03, 2.70000000e-03,\n",
       "         1.97301587e-03, 1.12698413e-03, 1.13253968e-03, 8.49470899e-04,\n",
       "         6.19841270e-04, 4.35185185e-04, 2.48677249e-04, 2.51322751e-04,\n",
       "         1.81746032e-04, 1.41269841e-04, 7.69841270e-05, 8.83597884e-05,\n",
       "         5.23809524e-05, 3.75661376e-05, 2.85714286e-05, 1.79894180e-05,\n",
       "         1.95767196e-05, 1.21693122e-05, 8.99470899e-06, 5.29100529e-06,\n",
       "         6.08465608e-06, 3.70370370e-06, 2.11640212e-06, 2.64550265e-06,\n",
       "         1.05820106e-06, 7.93650794e-07, 1.05820106e-06, 7.93650794e-07,\n",
       "         7.93650794e-07, 2.64550265e-07, 0.00000000e+00, 5.29100529e-07,\n",
       "         0.00000000e+00, 2.64550265e-07, 0.00000000e+00, 2.64550265e-07,\n",
       "         0.00000000e+00, 2.64550265e-07]),\n",
       "  array([  6.89,  10.67,  14.45,  18.23,  22.01,  25.79,  29.57,  33.35,\n",
       "          37.13,  40.91,  44.69,  48.47,  52.25,  56.03,  59.81,  63.59,\n",
       "          67.37,  71.15,  74.93,  78.71,  82.49,  86.27,  90.05,  93.83,\n",
       "          97.61, 101.39, 105.17, 108.95, 112.73, 116.51, 120.29, 124.07,\n",
       "         127.85, 131.63, 135.41, 139.19, 142.97, 146.75, 150.53, 154.31,\n",
       "         158.09, 161.87, 165.65, 169.43, 173.21, 176.99, 180.77, 184.55,\n",
       "         188.33, 192.11])),\n",
       " 'size': 1000000,\n",
       " 'alpha': 0.05,\n",
       " 'stats': 'RSS',\n",
       " 'bins': 50,\n",
       " 'bound': 'both',\n",
       " 'distr': 'popular',\n",
       " 'method': 'parametric',\n",
       " 'multtest': 'fdr_bh',\n",
       " 'n_perm': 10000,\n",
       " 'smooth': None,\n",
       " 'weighted': True,\n",
       " 'f': 1.5}"
      ]
     },
     "execution_count": 7,
     "metadata": {},
     "output_type": "execute_result"
    }
   ],
   "source": [
    "# Initialize distfit\n",
    "dist = distfit()\n",
    "\n",
    "# Determine best-fitting probability distribution for data\n",
    "dist.fit_transform(X)"
   ]
  },
  {
   "cell_type": "markdown",
   "metadata": {},
   "source": [
    "We print the summary of the distribution fitting:"
   ]
  },
  {
   "cell_type": "code",
   "execution_count": 8,
   "metadata": {},
   "outputs": [
    {
     "data": {
      "text/html": [
       "<div>\n",
       "<style scoped>\n",
       "    .dataframe tbody tr th:only-of-type {\n",
       "        vertical-align: middle;\n",
       "    }\n",
       "\n",
       "    .dataframe tbody tr th {\n",
       "        vertical-align: top;\n",
       "    }\n",
       "\n",
       "    .dataframe thead th {\n",
       "        text-align: right;\n",
       "    }\n",
       "</style>\n",
       "<table border=\"1\" class=\"dataframe\">\n",
       "  <thead>\n",
       "    <tr style=\"text-align: right;\">\n",
       "      <th></th>\n",
       "      <th>distr</th>\n",
       "      <th>score</th>\n",
       "      <th>LLE</th>\n",
       "      <th>loc</th>\n",
       "      <th>scale</th>\n",
       "      <th>arg</th>\n",
       "    </tr>\n",
       "  </thead>\n",
       "  <tbody>\n",
       "    <tr>\n",
       "      <th>0</th>\n",
       "      <td>expon</td>\n",
       "      <td>3.19521e-05</td>\n",
       "      <td>NaN</td>\n",
       "      <td>5</td>\n",
       "      <td>12.5395</td>\n",
       "      <td>()</td>\n",
       "    </tr>\n",
       "    <tr>\n",
       "      <th>1</th>\n",
       "      <td>lognorm</td>\n",
       "      <td>7.73159e-05</td>\n",
       "      <td>NaN</td>\n",
       "      <td>3.66819</td>\n",
       "      <td>9.25409</td>\n",
       "      <td>(0.9501000411385825,)</td>\n",
       "    </tr>\n",
       "    <tr>\n",
       "      <th>2</th>\n",
       "      <td>genextreme</td>\n",
       "      <td>0.000174301</td>\n",
       "      <td>NaN</td>\n",
       "      <td>10.6535</td>\n",
       "      <td>5.9991</td>\n",
       "      <td>(-0.45900100685116857,)</td>\n",
       "    </tr>\n",
       "    <tr>\n",
       "      <th>3</th>\n",
       "      <td>gamma</td>\n",
       "      <td>0.000205954</td>\n",
       "      <td>NaN</td>\n",
       "      <td>5</td>\n",
       "      <td>13.2569</td>\n",
       "      <td>(0.8479523237848223,)</td>\n",
       "    </tr>\n",
       "    <tr>\n",
       "      <th>4</th>\n",
       "      <td>beta</td>\n",
       "      <td>0.00054675</td>\n",
       "      <td>NaN</td>\n",
       "      <td>5</td>\n",
       "      <td>1264.03</td>\n",
       "      <td>(0.8847812066038294, 117.40224502138686)</td>\n",
       "    </tr>\n",
       "    <tr>\n",
       "      <th>5</th>\n",
       "      <td>t</td>\n",
       "      <td>0.00193198</td>\n",
       "      <td>NaN</td>\n",
       "      <td>14.0212</td>\n",
       "      <td>7.58693</td>\n",
       "      <td>(2.6540691928796245,)</td>\n",
       "    </tr>\n",
       "    <tr>\n",
       "      <th>6</th>\n",
       "      <td>pareto</td>\n",
       "      <td>0.0019368</td>\n",
       "      <td>NaN</td>\n",
       "      <td>-0.012759</td>\n",
       "      <td>5.01276</td>\n",
       "      <td>(0.9631676761627705,)</td>\n",
       "    </tr>\n",
       "    <tr>\n",
       "      <th>7</th>\n",
       "      <td>dweibull</td>\n",
       "      <td>0.00212736</td>\n",
       "      <td>NaN</td>\n",
       "      <td>14.4156</td>\n",
       "      <td>9.13271</td>\n",
       "      <td>(1.0659180424922519,)</td>\n",
       "    </tr>\n",
       "    <tr>\n",
       "      <th>8</th>\n",
       "      <td>norm</td>\n",
       "      <td>0.00312206</td>\n",
       "      <td>NaN</td>\n",
       "      <td>17.5395</td>\n",
       "      <td>12.7587</td>\n",
       "      <td>()</td>\n",
       "    </tr>\n",
       "    <tr>\n",
       "      <th>9</th>\n",
       "      <td>loggamma</td>\n",
       "      <td>0.00321516</td>\n",
       "      <td>NaN</td>\n",
       "      <td>-4264.79</td>\n",
       "      <td>569.569</td>\n",
       "      <td>(1842.517202542549,)</td>\n",
       "    </tr>\n",
       "    <tr>\n",
       "      <th>10</th>\n",
       "      <td>uniform</td>\n",
       "      <td>0.00903593</td>\n",
       "      <td>NaN</td>\n",
       "      <td>5</td>\n",
       "      <td>189</td>\n",
       "      <td>()</td>\n",
       "    </tr>\n",
       "  </tbody>\n",
       "</table>\n",
       "</div>"
      ],
      "text/plain": [
       "         distr        score  LLE       loc    scale  \\\n",
       "0        expon  3.19521e-05  NaN         5  12.5395   \n",
       "1      lognorm  7.73159e-05  NaN   3.66819  9.25409   \n",
       "2   genextreme  0.000174301  NaN   10.6535   5.9991   \n",
       "3        gamma  0.000205954  NaN         5  13.2569   \n",
       "4         beta   0.00054675  NaN         5  1264.03   \n",
       "5            t   0.00193198  NaN   14.0212  7.58693   \n",
       "6       pareto    0.0019368  NaN -0.012759  5.01276   \n",
       "7     dweibull   0.00212736  NaN   14.4156  9.13271   \n",
       "8         norm   0.00312206  NaN   17.5395  12.7587   \n",
       "9     loggamma   0.00321516  NaN  -4264.79  569.569   \n",
       "10     uniform   0.00903593  NaN         5      189   \n",
       "\n",
       "                                         arg  \n",
       "0                                         ()  \n",
       "1                      (0.9501000411385825,)  \n",
       "2                    (-0.45900100685116857,)  \n",
       "3                      (0.8479523237848223,)  \n",
       "4   (0.8847812066038294, 117.40224502138686)  \n",
       "5                      (2.6540691928796245,)  \n",
       "6                      (0.9631676761627705,)  \n",
       "7                      (1.0659180424922519,)  \n",
       "8                                         ()  \n",
       "9                       (1842.517202542549,)  \n",
       "10                                        ()  "
      ]
     },
     "execution_count": 8,
     "metadata": {},
     "output_type": "execute_result"
    }
   ],
   "source": [
    "dist.summary\n",
    "\n",
    "# Option to save the output as an image\n",
    "#dfi.export(dist.summary,\"distfit_summary.png\")"
   ]
  },
  {
   "cell_type": "markdown",
   "metadata": {},
   "source": [
    "We plot the estimated pdf against the empirical distribution."
   ]
  },
  {
   "cell_type": "code",
   "execution_count": 9,
   "metadata": {
    "scrolled": false
   },
   "outputs": [
    {
     "name": "stdout",
     "output_type": "stream",
     "text": [
      "[distfit] >plot..\n"
     ]
    },
    {
     "data": {
      "text/plain": [
       "(<Figure size 720x576 with 1 Axes>,\n",
       " <AxesSubplot:title={'center':'\\nexpon\\nloc=5.00, scale=12.54'}, xlabel='Values', ylabel='Frequency'>)"
      ]
     },
     "execution_count": 9,
     "metadata": {},
     "output_type": "execute_result"
    },
    {
     "data": {
      "image/png": "[encoded data removed]",
      "text/plain": [
       "<Figure size 720x576 with 1 Axes>"
      ]
     },
     "metadata": {
      "needs_background": "light"
     },
     "output_type": "display_data"
    }
   ],
   "source": [
    "dist.plot()"
   ]
  },
  {
   "cell_type": "markdown",
   "metadata": {},
   "source": [
    "Now we create a histogram using the estimated pdf for comparison."
   ]
  },
  {
   "cell_type": "code",
   "execution_count": 10,
   "metadata": {},
   "outputs": [
    {
     "data": {
      "image/png": "[encoded data removed]",
      "text/plain": [
       "<Figure size 432x288 with 1 Axes>"
      ]
     },
     "metadata": {
      "needs_background": "light"
     },
     "output_type": "display_data"
    }
   ],
   "source": [
    "#Create 1M variates following the Exp(5, 12.54) distribution\n",
    "variates = expon.rvs(loc=5, scale=12.54, size=1000000, random_state=123)\n",
    "\n",
    "plt.xlabel('Cycle Counts', fontsize=12)\n",
    "plt.ylabel('Probability', fontsize=12)\n",
    "plt.hist(variates, bins=50, density=True)\n",
    "\n",
    "# Option to save the output as an image\n",
    "plt.savefig('hist_variates.png')"
   ]
  }
 ],
 "metadata": {
  "kernelspec": {
   "display_name": "Python 3",
   "language": "python",
   "name": "python3"
  },
  "language_info": {
   "codemirror_mode": {
    "name": "ipython",
    "version": 3
   },
   "file_extension": ".py",
   "mimetype": "text/x-python",
   "name": "python",
   "nbconvert_exporter": "python",
   "pygments_lexer": "ipython3",
   "version": "3.8.3"
  }
 },
 "nbformat": 4,
 "nbformat_minor": 4
}
